{
 "cells": [
  {
   "cell_type": "code",
   "execution_count": 1,
   "id": "d42b3b35-c83b-47b6-8b1b-fa6f56952c77",
   "metadata": {},
   "outputs": [],
   "source": [
    "class SavingsAccount(object):\n",
    "    \"\"\"This class represents a savings account\n",
    "    with the owner's name, PIN, and balance.\"\"\"\n",
    "\n",
    "    RATE = 0.02  # Single rate for all accounts\n",
    "\n",
    "    def __init__(self, name, pin, balance=0.0):\n",
    "        self.name = name\n",
    "        self.pin = pin\n",
    "        self.balance = balance\n",
    "\n",
    "    def __str__(self):\n",
    "        \"\"\"Returns the string rep.\"\"\"\n",
    "        result = \"Name: \" + self.name + \"\\n\"\n",
    "        result += \"PIN: \" + self.pin + \"\\n\"\n",
    "        result += \"Balance: \" + str(self.balance)\n",
    "        return result\n",
    "\n",
    "    def getBalance(self):\n",
    "        \"\"\"Returns the current balance.\"\"\"\n",
    "        return self.balance\n",
    "\n",
    "    def getName(self):\n",
    "        \"\"\"Returns the current name.\"\"\"\n",
    "        return self.name\n",
    "\n",
    "    def getPin(self):\n",
    "        \"\"\"Returns the current pin.\"\"\"\n",
    "        return self.pin\n",
    "\n",
    "    def deposit(self, amount):\n",
    "        \"\"\"Deposits the given amount and returns None.\"\"\"\n",
    "        self.balance += amount\n",
    "        return None\n",
    "\n",
    "    def withdraw(self, amount):\n",
    "        \"\"\"Withdraws the given amount.\n",
    "        Returns None if successful, or an\n",
    "        error message if unsuccessful.\"\"\"\n",
    "        if amount < 0:\n",
    "            return \"Amount must be >= 0\"\n",
    "        elif self.balance < amount:\n",
    "            return \"Insufficient funds\"\n",
    "        else:\n",
    "            self.balance -= amount\n",
    "            return None\n",
    "\n",
    "    def computeInterest(self):\n",
    "        \"\"\"Computes, deposits, and returns the interest.\"\"\"\n",
    "        interest = self.balance * SavingsAccount.RATE\n",
    "        self.deposit(interest)\n",
    "        return interest"
   ]
  },
  {
   "cell_type": "code",
   "execution_count": 2,
   "id": "7bd7c041-9b33-402d-b887-e63695c34852",
   "metadata": {},
   "outputs": [],
   "source": [
    "\n",
    "class Bank(object):\n",
    "    def __init__(self):\n",
    "        self.accounts = {}\n",
    "\n",
    "    def __str__(self):\n",
    "        \"\"\"Return the string rep of the entire bank.\"\"\"\n",
    "        \n",
    "        return \"\\n\".join(map(str, self.accounts.values()))\n",
    "\n",
    "    def makeKey(self, name, pin):\n",
    "        \"\"\"Makes and returns a key from name and pin.\"\"\"\n",
    "        return name + \"/\" + pin\n",
    "\n",
    "    def add(self, account):\n",
    "        \"\"\"Inserts an account with name and pin as a key.\"\"\"\n",
    "        key = self.makeKey(account.getName(), account.getPin())\n",
    "        self.accounts[key] = account\n",
    "\n",
    "    def remove(self, name, pin):\n",
    "        \"\"\"Removes an account with name and pin as a key.\"\"\"\n",
    "        key = self.makeKey(name, pin)\n",
    "        return self.accounts.pop(key, None)\n",
    "\n",
    "    def get(self, name, pin):\n",
    "        \"\"\"Returns an account with name and pin as a key\n",
    "        or None if not found.\"\"\"\n",
    "        key = self.makeKey(name, pin)\n",
    "        return self.accounts.get(key, None)\n",
    "\n",
    "    def computeInterest(self):\n",
    "        \"\"\"Computes interest for each account and\n",
    "        returns the total.\"\"\"\n",
    "        total = 0.0\n",
    "        for account in self.accounts.values():\n",
    "            total += account.computelnterest()\n",
    "        return total"
   ]
  },
  {
   "cell_type": "code",
   "execution_count": 3,
   "id": "320be32a-b736-4497-97e0-9ba36f0886e1",
   "metadata": {},
   "outputs": [],
   "source": [
    "from bank import Bank"
   ]
  },
  {
   "cell_type": "code",
   "execution_count": 4,
   "id": "61dcc321-97ab-4254-910e-437fdccb5e4c",
   "metadata": {},
   "outputs": [],
   "source": [
    "from savingsaccount import SavingsAccount\n"
   ]
  },
  {
   "cell_type": "code",
   "execution_count": 5,
   "id": "ce0f0483-e7ca-428c-9156-1016c8074e81",
   "metadata": {},
   "outputs": [],
   "source": [
    "bank = Bank()"
   ]
  },
  {
   "cell_type": "code",
   "execution_count": 6,
   "id": "6a8d37db-4361-459c-be25-a014b684563f",
   "metadata": {},
   "outputs": [],
   "source": [
    "bank.add(SavingsAccount(\"Wilma\", \"1001\", 4000.00))"
   ]
  },
  {
   "cell_type": "code",
   "execution_count": 7,
   "id": "c7c2e46e-0b86-44f6-9680-086cb0f7f9bb",
   "metadata": {},
   "outputs": [
    {
     "name": "stdout",
     "output_type": "stream",
     "text": [
      "Name: Wilma\n",
      "PIN: 1001\n",
      "Balance: 4000.0\n"
     ]
    }
   ],
   "source": [
    "print(bank)"
   ]
  },
  {
   "cell_type": "code",
   "execution_count": 8,
   "id": "2c126f08-94c9-450a-a7b9-3caf8735abe1",
   "metadata": {},
   "outputs": [],
   "source": [
    "bank.add(SavingsAccount(\"Fred\", \"1002\", 1000.00))"
   ]
  },
  {
   "cell_type": "code",
   "execution_count": 9,
   "id": "f55787a4-d7a9-44ac-b79d-9fa94dd0698f",
   "metadata": {},
   "outputs": [
    {
     "name": "stdout",
     "output_type": "stream",
     "text": [
      "Name: Wilma\n",
      "PIN: 1001\n",
      "Balance: 4000.0\n",
      "Name: Fred\n",
      "PIN: 1002\n",
      "Balance: 1000.0\n"
     ]
    }
   ],
   "source": [
    "print(bank)"
   ]
  },
  {
   "cell_type": "code",
   "execution_count": 10,
   "id": "5de6901e-075b-4bbf-b7e7-0dea822139b3",
   "metadata": {},
   "outputs": [],
   "source": [
    "bank.add(SavingsAccount(\"minh\", \"1003\", 4000.00))"
   ]
  },
  {
   "cell_type": "code",
   "execution_count": 11,
   "id": "ed5d418c-69c0-411b-acd3-fe3b1b54ffc8",
   "metadata": {},
   "outputs": [
    {
     "name": "stdout",
     "output_type": "stream",
     "text": [
      "Name: Wilma\n",
      "PIN: 1001\n",
      "Balance: 4000.0\n",
      "Name: Fred\n",
      "PIN: 1002\n",
      "Balance: 1000.0\n",
      "Name: minh\n",
      "PIN: 1003\n",
      "Balance: 4000.0\n"
     ]
    }
   ],
   "source": [
    "print(bank)"
   ]
  },
  {
   "cell_type": "code",
   "execution_count": null,
   "id": "c89d6b5c-2b52-4a45-b98e-e761292eb0d9",
   "metadata": {},
   "outputs": [],
   "source": []
  }
 ],
 "metadata": {
  "kernelspec": {
   "display_name": "Python 3 (ipykernel)",
   "language": "python",
   "name": "python3"
  },
  "language_info": {
   "codemirror_mode": {
    "name": "ipython",
    "version": 3
   },
   "file_extension": ".py",
   "mimetype": "text/x-python",
   "name": "python",
   "nbconvert_exporter": "python",
   "pygments_lexer": "ipython3",
   "version": "3.9.7"
  }
 },
 "nbformat": 4,
 "nbformat_minor": 5
}
