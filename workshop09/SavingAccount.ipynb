{
 "cells": [
  {
   "cell_type": "code",
   "execution_count": 1,
   "id": "ca4ef341-0a4f-4af6-a463-b2bd05a241cc",
   "metadata": {},
   "outputs": [],
   "source": [
    "class SavingsAccount(object):\n",
    "    \"\"\"This class represents a savings account\n",
    "    with the owner's name, PIN, and balance.\"\"\"\n",
    "\n",
    "    RATE = 0.02  # Single rate for all accounts\n",
    "\n",
    "    def __init__(self, name, pin, balance=0.0):\n",
    "        self.name = name\n",
    "        self.pin = pin\n",
    "        self.balance = balance\n",
    "\n",
    "    def __str__(self):\n",
    "        \"\"\"Returns the string rep.\"\"\"\n",
    "        result = \"Name: \" + self.name + \"\\n\"\n",
    "        result += \"PIN: \" + self.pin + \"\\n\"\n",
    "        result += \"Balance: \" + str(self.balance)\n",
    "        return result\n",
    "\n",
    "    def getBalance(self):\n",
    "        \"\"\"Returns the current balance.\"\"\"\n",
    "        return self.balance\n",
    "\n",
    "    def getName(self):\n",
    "        \"\"\"Returns the current name.\"\"\"\n",
    "        return self.name\n",
    "\n",
    "    def getPin(self):\n",
    "        \"\"\"Returns the current pin.\"\"\"\n",
    "        return self.pin\n",
    "\n",
    "    def deposit(self, amount):\n",
    "        \"\"\"Deposits the given amount and returns None.\"\"\"\n",
    "        self.balance += amount\n",
    "        return None\n",
    "\n",
    "    def withdraw(self, amount):\n",
    "        \"\"\"Withdraws the given amount.\n",
    "        Returns None if successful, or an\n",
    "        error message if unsuccessful.\"\"\"\n",
    "        if amount < 0:\n",
    "            return \"Amount must be >= 0\"\n",
    "        elif self.balance < amount:\n",
    "            return \"Insufficient funds\"\n",
    "        else:\n",
    "            self.balance -= amount\n",
    "            return None\n",
    "\n",
    "    def computeInterest(self):\n",
    "        \"\"\"Computes, deposits, and returns the interest.\"\"\"\n",
    "        interest = self.balance * SavingsAccount.RATE\n",
    "        self.deposit(interest)\n",
    "        return interest\n",
    "    \n",
    "\n"
   ]
  },
  {
   "cell_type": "code",
   "execution_count": 2,
   "id": "f777b1f6-1d6a-42b7-a629-1284916c0b6c",
   "metadata": {},
   "outputs": [],
   "source": [
    "\n",
    "\n",
    "class Bank(object):\n",
    "    def __init__(self):\n",
    "        self.accounts = {}\n",
    "\n",
    "    def __str__(self):\n",
    "        \"\"\"Return the string rep of the entire bank.\"\"\"\n",
    "        \n",
    "        return \"\\n\".join(map(str, self.accounts.values()))\n",
    "\n",
    "    def makeKey(self, name, pin):\n",
    "        \"\"\"Makes and returns a key from name and pin.\"\"\"\n",
    "        return name + \"/\" + pin\n",
    "\n",
    "    def add(self, account):\n",
    "        \"\"\"Inserts an account with name and pin as a key.\"\"\"\n",
    "        key = self.makeKey(account.getName(), account.getPin())\n",
    "        self.accounts[key] = account\n",
    "\n",
    "    def remove(self, name, pin):\n",
    "        \"\"\"Removes an account with name and pin as a key.\"\"\"\n",
    "        key = self.makeKey(name, pin)\n",
    "        return self.accounts.pop(key, None)\n",
    "\n",
    "    def get(self, name, pin):\n",
    "        \"\"\"Returns an account with name and pin as a key\n",
    "        or None if not found.\"\"\"\n",
    "        key = self.makeKey(name, pin)\n",
    "        return self.accounts.get(key, None)\n",
    "\n",
    "    def computeInterest(self):\n",
    "        \"\"\"Computes interest for each account and\n",
    "        returns the total.\"\"\"\n",
    "        total = 0.0\n",
    "        for account in self.accounts.values():\n",
    "            total += account.computelnterest()\n",
    "        return total\n"
   ]
  },
  {
   "cell_type": "code",
   "execution_count": 3,
   "id": "349336ec-9794-4f2e-b135-0b127b1f5e2f",
   "metadata": {},
   "outputs": [],
   "source": [
    "from bank import Bank\n"
   ]
  },
  {
   "cell_type": "code",
   "execution_count": 4,
   "id": "d87b5c36-10e7-4270-9df1-fb543527e6bc",
   "metadata": {},
   "outputs": [],
   "source": [
    "from bank import Bank\n"
   ]
  },
  {
   "cell_type": "code",
   "execution_count": 6,
   "id": "94748b58-c1c9-4034-aa92-bb37f795a842",
   "metadata": {},
   "outputs": [
    {
     "name": "stdout",
     "output_type": "stream",
     "text": [
      "Name: Wilma\n",
      "PIN: 1001\n",
      "Balance: 4000.0\n",
      "Name: Fred\n",
      "PIN: 1002\n",
      "Balance: 1000.0\n"
     ]
    }
   ],
   "source": [
    "bank = Bank()\n",
    "bank.add(SavingsAccount(\"Wilma\", \"1001\", 4000.00))\n",
    "bank.add(SavingsAccount(\"Fred\", \"1002\", 1000.00))\n",
    "print(bank)"
   ]
  },
  {
   "cell_type": "code",
   "execution_count": 8,
   "id": "f6162feb-0bb6-4218-91c8-ce29ba77023b",
   "metadata": {},
   "outputs": [
    {
     "name": "stdout",
     "output_type": "stream",
     "text": [
      "Name: Wilma\n",
      "PIN: 1001\n",
      "Balance: 4000.0\n",
      "Name: Fred\n",
      "PIN: 1002\n",
      "Balance: 1000.0\n"
     ]
    }
   ],
   "source": [
    "print(bank)\n"
   ]
  },
  {
   "cell_type": "code",
   "execution_count": 11,
   "id": "b4276975-9289-441c-90ca-5c538d5ef125",
   "metadata": {},
   "outputs": [
    {
     "name": "stdout",
     "output_type": "stream",
     "text": [
      "Name: Wilma\n",
      "PIN: 1001\n",
      "Balance: 4000.0\n",
      "Name: Fred\n",
      "PIN: 1002\n",
      "Balance: 1000.0\n",
      "Name: Fred2\n",
      "PIN: 1002\n",
      "Balance: 1000.0\n"
     ]
    }
   ],
   "source": [
    "bank.add(SavingsAccount(\"Fred2\", \"1002\", 1000.00))\n",
    "print(bank)\n"
   ]
  },
  {
   "cell_type": "code",
   "execution_count": 12,
   "id": "934bc0b7-d139-45ba-ba12-099fb31b8fbe",
   "metadata": {},
   "outputs": [
    {
     "name": "stdout",
     "output_type": "stream",
     "text": [
      "Name: Wilma\n",
      "PIN: 1001\n",
      "Balance: 4000.0\n",
      "Name: Fred\n",
      "PIN: 1002\n",
      "Balance: 1000.0\n",
      "Name: Fred2\n",
      "PIN: 1002\n",
      "Balance: 1000.0\n"
     ]
    }
   ],
   "source": [
    "print(bank)"
   ]
  },
  {
   "cell_type": "code",
   "execution_count": 1,
   "id": "620c5ca8-aea8-4b3a-88fd-7162a484a793",
   "metadata": {},
   "outputs": [
    {
     "ename": "NameError",
     "evalue": "name 'bank' is not defined",
     "output_type": "error",
     "traceback": [
      "\u001b[0;31m---------------------------------------------------------------------------\u001b[0m",
      "\u001b[0;31mNameError\u001b[0m                                 Traceback (most recent call last)",
      "\u001b[0;32m/tmp/ipykernel_14736/1098220473.py\u001b[0m in \u001b[0;36m<module>\u001b[0;34m\u001b[0m\n\u001b[0;32m----> 1\u001b[0;31m \u001b[0mprint\u001b[0m\u001b[0;34m(\u001b[0m\u001b[0mbank\u001b[0m\u001b[0;34m)\u001b[0m\u001b[0;34m\u001b[0m\u001b[0;34m\u001b[0m\u001b[0m\n\u001b[0m",
      "\u001b[0;31mNameError\u001b[0m: name 'bank' is not defined"
     ]
    }
   ],
   "source": [
    "print(bank)"
   ]
  },
  {
   "cell_type": "code",
   "execution_count": 2,
   "id": "45c6dfc2-f25e-4c5c-a69c-00ec115812ee",
   "metadata": {},
   "outputs": [],
   "source": [
    "from bank import Bank"
   ]
  },
  {
   "cell_type": "code",
   "execution_count": 3,
   "id": "d25a2c33-c84d-45cb-ab90-b992482b2f31",
   "metadata": {},
   "outputs": [],
   "source": [
    "from bank import Bank"
   ]
  },
  {
   "cell_type": "code",
   "execution_count": 4,
   "id": "4dc3d24a-82cf-45c8-a466-5e357de4dd3b",
   "metadata": {},
   "outputs": [
    {
     "ename": "NameError",
     "evalue": "name 'SavingsAccount' is not defined",
     "output_type": "error",
     "traceback": [
      "\u001b[0;31m---------------------------------------------------------------------------\u001b[0m",
      "\u001b[0;31mNameError\u001b[0m                                 Traceback (most recent call last)",
      "\u001b[0;32m/tmp/ipykernel_14736/2828119465.py\u001b[0m in \u001b[0;36m<module>\u001b[0;34m\u001b[0m\n\u001b[1;32m      1\u001b[0m \u001b[0mbank\u001b[0m \u001b[0;34m=\u001b[0m \u001b[0mBank\u001b[0m\u001b[0;34m(\u001b[0m\u001b[0;34m)\u001b[0m\u001b[0;34m\u001b[0m\u001b[0;34m\u001b[0m\u001b[0m\n\u001b[0;32m----> 2\u001b[0;31m \u001b[0mbank\u001b[0m\u001b[0;34m.\u001b[0m\u001b[0madd\u001b[0m\u001b[0;34m(\u001b[0m\u001b[0mSavingsAccount\u001b[0m\u001b[0;34m(\u001b[0m\u001b[0;34m\"Wilma\"\u001b[0m\u001b[0;34m,\u001b[0m \u001b[0;34m\"1001\"\u001b[0m\u001b[0;34m,\u001b[0m \u001b[0;36m4000.00\u001b[0m\u001b[0;34m)\u001b[0m\u001b[0;34m)\u001b[0m\u001b[0;34m\u001b[0m\u001b[0;34m\u001b[0m\u001b[0m\n\u001b[0m\u001b[1;32m      3\u001b[0m \u001b[0mbank\u001b[0m\u001b[0;34m.\u001b[0m\u001b[0madd\u001b[0m\u001b[0;34m(\u001b[0m\u001b[0mSavingsAccount\u001b[0m\u001b[0;34m(\u001b[0m\u001b[0;34m\"Fred\"\u001b[0m\u001b[0;34m,\u001b[0m \u001b[0;34m\"1002\"\u001b[0m\u001b[0;34m,\u001b[0m \u001b[0;36m1000.00\u001b[0m\u001b[0;34m)\u001b[0m\u001b[0;34m)\u001b[0m\u001b[0;34m\u001b[0m\u001b[0;34m\u001b[0m\u001b[0m\n\u001b[1;32m      4\u001b[0m \u001b[0mprint\u001b[0m\u001b[0;34m(\u001b[0m\u001b[0mbank\u001b[0m\u001b[0;34m)\u001b[0m\u001b[0;34m\u001b[0m\u001b[0;34m\u001b[0m\u001b[0m\n",
      "\u001b[0;31mNameError\u001b[0m: name 'SavingsAccount' is not defined"
     ]
    }
   ],
   "source": [
    "bank = Bank()\n",
    "bank.add(SavingsAccount(\"Wilma\", \"1001\", 4000.00))\n",
    "bank.add(SavingsAccount(\"Fred\", \"1002\", 1000.00))\n",
    "print(bank)"
   ]
  },
  {
   "cell_type": "code",
   "execution_count": null,
   "id": "f4b4e5af-5561-4f91-8ab7-a923d30efa32",
   "metadata": {},
   "outputs": [],
   "source": []
  }
 ],
 "metadata": {
  "kernelspec": {
   "display_name": "Python 3 (ipykernel)",
   "language": "python",
   "name": "python3"
  },
  "language_info": {
   "codemirror_mode": {
    "name": "ipython",
    "version": 3
   },
   "file_extension": ".py",
   "mimetype": "text/x-python",
   "name": "python",
   "nbconvert_exporter": "python",
   "pygments_lexer": "ipython3",
   "version": "3.9.7"
  }
 },
 "nbformat": 4,
 "nbformat_minor": 5
}
